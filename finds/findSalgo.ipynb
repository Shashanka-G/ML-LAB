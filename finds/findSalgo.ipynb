{
 "cells": [
  {
   "cell_type": "code",
   "execution_count": 29,
   "metadata": {
    "colab": {
     "base_uri": "https://localhost:8080/"
    },
    "id": "8G1Zk8XodLxy",
    "outputId": "3508cc36-15b1-464d-d3c5-4d8cd711fb77"
   },
   "outputs": [
    {
     "name": "stdout",
     "output_type": "stream",
     "text": [
      "Drive already mounted at /content/gdrive; to attempt to forcibly remount, call drive.mount(\"/content/gdrive\", force_remount=True).\n"
     ]
    }
   ],
   "source": [
    "from  google.colab import drive\n",
    "import pandas as pd \n",
    "import numpy as np\n",
    "import csv\n",
    "\n",
    "\n",
    "csv_path = 'week1.csv'"
   ]
  },
  {
   "cell_type": "code",
   "execution_count": 27,
   "metadata": {
    "id": "CNfCPh-oSEoc"
   },
   "outputs": [],
   "source": [
    "#Training function to implement find-s algorithm\n",
    "def train(c,t):\n",
    "    for i, val in enumerate(t):\n",
    "        if val == \"\\'Yes\\'\" or val == 'Yes':\n",
    "            specific_hypothesis = c[i].copy()\n",
    "            break\n",
    "             \n",
    "    for i, val in enumerate(c):\n",
    "        if t[i] == \"\\'Yes\\'\" or t[i] == 'Yes':\n",
    "            for x in range(len(specific_hypothesis)):\n",
    "                if val[x] != specific_hypothesis[x]:\n",
    "                    specific_hypothesis[x] = '?'\n",
    "                else:\n",
    "                    pass\n",
    "                 \n",
    "    return specific_hypothesis"
   ]
  },
  {
   "cell_type": "code",
   "execution_count": 30,
   "metadata": {
    "colab": {
     "base_uri": "https://localhost:8080/"
    },
    "id": "eCq3IIt9TYDE",
    "outputId": "847c29d1-f6c9-44f1-acb6-33e13da2f499"
   },
   "outputs": [
    {
     "name": "stdout",
     "output_type": "stream",
     "text": [
      "The final hypothesis is: < ?,Hot,Dry,? >\n",
      "The final hypothesis is: < ?,Hot,Dry,? >\n"
     ]
    }
   ],
   "source": [
    "#Input tuples\n",
    "d = [['Sunny', 'Hot', 'Dry', ' Afternoon'],\n",
    "     ['Rainy', 'Cold', 'Humid', ' Evening'], \n",
    "     ['Overcast', 'Hot', 'Dry', 'Morning'], \n",
    "     ['Sunny', 'Hot', 'Humid', ' Afternoon']]\n",
    "\n",
    "target = ['Yes', 'No', 'Yes', 'No']\n",
    "print(\"The final hypothesis is: <\", ','.join(train(d, target)), \">\")\n",
    "\n",
    "#Input from csv\n",
    "data = pd.read_csv(csv_path)\n",
    "d = np.array(data)[:,:-1]\n",
    "target = np.array(data)[:,-1]\n",
    "\n",
    "print(\"The final hypothesis is: <\", ','.join(train(d, target)), \">\")"
   ]
  }
 ],
 "metadata": {
  "colab": {
   "authorship_tag": "ABX9TyOFc7mJCKZWwibCp1eZ0gfu",
   "include_colab_link": true,
   "name": "findSalgo",
   "provenance": []
  },
  "kernelspec": {
   "display_name": "Python 3 (ipykernel)",
   "language": "python",
   "name": "python3"
  },
  "language_info": {
   "codemirror_mode": {
    "name": "ipython",
    "version": 3
   },
   "file_extension": ".py",
   "mimetype": "text/x-python",
   "name": "python",
   "nbconvert_exporter": "python",
   "pygments_lexer": "ipython3",
   "version": "3.9.12"
  }
 },
 "nbformat": 4,
 "nbformat_minor": 1
}
