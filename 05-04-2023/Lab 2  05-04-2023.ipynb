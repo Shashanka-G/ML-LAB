{
 "cells": [
  {
   "cell_type": "markdown",
   "id": "8096b0b6",
   "metadata": {},
   "source": [
    "## Lists"
   ]
  },
  {
   "cell_type": "code",
   "execution_count": 1,
   "id": "afc71279",
   "metadata": {},
   "outputs": [
    {
     "name": "stdout",
     "output_type": "stream",
     "text": [
      "First three elements: [1, 2, 3]\n",
      "Last element: 7\n",
      "[1, 4, 9, 16, 25, 36, 49, 64, 81, 100]\n"
     ]
    }
   ],
   "source": [
    "#creating list\n",
    "l = []\n",
    "l = [1,2,3,4,5,6,7]\n",
    "print(\"First three elements:\",l[:3])\n",
    "print(\"Last element:\",l[-1])\n",
    "\n",
    "# List comprehension\n",
    "squared = [x*x for x in range(1,11)]\n",
    "print(squared)"
   ]
  },
  {
   "cell_type": "markdown",
   "id": "07c27e21",
   "metadata": {},
   "source": [
    "### Numpy arrays"
   ]
  },
  {
   "cell_type": "code",
   "execution_count": 2,
   "id": "60d4b0c9",
   "metadata": {},
   "outputs": [],
   "source": [
    "import numpy as np"
   ]
  },
  {
   "cell_type": "code",
   "execution_count": 3,
   "id": "58a6c086",
   "metadata": {},
   "outputs": [],
   "source": [
    "np_arr1 = np.array(l)\n",
    "np_arr2 = np.array(squared)"
   ]
  },
  {
   "cell_type": "code",
   "execution_count": 4,
   "id": "60f15849",
   "metadata": {},
   "outputs": [
    {
     "name": "stdout",
     "output_type": "stream",
     "text": [
      "<class 'list'>\n",
      "<class 'numpy.ndarray'>\n"
     ]
    }
   ],
   "source": [
    "print(type(l))\n",
    "print(type(np_arr1))"
   ]
  },
  {
   "cell_type": "markdown",
   "id": "a9b710b4",
   "metadata": {},
   "source": [
    "### Enum"
   ]
  },
  {
   "cell_type": "code",
   "execution_count": 1,
   "id": "3df25c48",
   "metadata": {},
   "outputs": [],
   "source": [
    "from enum import Enum\n",
    "\n",
    "class Fruits(Enum):\n",
    "    Apple=1\n",
    "    Orange=2"
   ]
  },
  {
   "cell_type": "code",
   "execution_count": 3,
   "id": "b3dc7b5a",
   "metadata": {},
   "outputs": [
    {
     "name": "stdout",
     "output_type": "stream",
     "text": [
      "Fruits.Apple 1\n",
      "Fruits.Orange 2\n"
     ]
    }
   ],
   "source": [
    "for fruit in (Fruits):\n",
    "    print(fruit,fruit.value)"
   ]
  },
  {
   "cell_type": "markdown",
   "id": "eae2bae3",
   "metadata": {},
   "source": [
    "### Find S Algorithm"
   ]
  },
  {
   "cell_type": "code",
   "execution_count": 1,
   "id": "6c6d7f36",
   "metadata": {},
   "outputs": [],
   "source": [
    "import csv"
   ]
  },
  {
   "cell_type": "code",
   "execution_count": 2,
   "id": "5b5aa133",
   "metadata": {},
   "outputs": [],
   "source": [
    "def updateHypothesis(x,h):\n",
    "    if h==[]:\n",
    "        return x\n",
    "    for i in range(0,len(h)):\n",
    "        if x[i].upper() != h[i].upper():\n",
    "            h[i]=\"?\"\n",
    "    return h"
   ]
  },
  {
   "cell_type": "code",
   "execution_count": 6,
   "id": "61c52b50",
   "metadata": {},
   "outputs": [
    {
     "name": "stdout",
     "output_type": "stream",
     "text": [
      "Data:\n",
      "['sunny', 'warm', 'normal', 'strong', 'warm', 'same', 'yes']\n",
      "['sunny', 'warm', 'high', 'strong', 'warm', 'same', 'yes']\n",
      "['rainy', 'cold', 'high', 'strong', 'warm', 'change', 'no']\n",
      "['sunny', 'warm', 'high', 'strong', 'cool', 'change', 'yes']\n",
      "Hypothesis: ['sunny', 'warm', '?', 'strong', '?', '?']\n"
     ]
    }
   ],
   "source": [
    "if __name__==\"__main__\":\n",
    "    data = []\n",
    "    h =[]\n",
    "    with open(\"sports.csv\") as file:\n",
    "        reader = csv.reader(file)\n",
    "        print(\"Data:\")\n",
    "        \n",
    "        for row in reader:\n",
    "            data.append(row)\n",
    "            print(row)\n",
    "        \n",
    "    if data:\n",
    "        for row in data:\n",
    "            if row[-1].upper()==\"YES\":\n",
    "                row.pop()\n",
    "                h=updateHypothesis(row,h)\n",
    "                \n",
    "    print(\"Hypothesis:\",h)"
   ]
  },
  {
   "cell_type": "code",
   "execution_count": null,
   "id": "96dc4e44",
   "metadata": {},
   "outputs": [],
   "source": []
  }
 ],
 "metadata": {
  "kernelspec": {
   "display_name": "Python 3 (ipykernel)",
   "language": "python",
   "name": "python3"
  },
  "language_info": {
   "codemirror_mode": {
    "name": "ipython",
    "version": 3
   },
   "file_extension": ".py",
   "mimetype": "text/x-python",
   "name": "python",
   "nbconvert_exporter": "python",
   "pygments_lexer": "ipython3",
   "version": "3.9.12"
  }
 },
 "nbformat": 4,
 "nbformat_minor": 5
}
